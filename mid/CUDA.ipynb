{
 "cells": [
  {
   "cell_type": "code",
   "execution_count": 2,
   "metadata": {},
   "outputs": [],
   "source": [
    "from numba import cuda\n",
    "import numpy as np \n",
    "import math\n",
    "\n"
   ]
  },
  {
   "cell_type": "code",
   "execution_count": 3,
   "metadata": {},
   "outputs": [],
   "source": [
    "x_host = np.ones(shape=(1048575))"
   ]
  },
  {
   "cell_type": "code",
   "execution_count": 4,
   "metadata": {},
   "outputs": [],
   "source": [
    "def host_inc_one(arr):\n",
    "    for i  in range(arr.shape[0]):\n",
    "        arr[i] += 1"
   ]
  },
  {
   "cell_type": "code",
   "execution_count": null,
   "metadata": {},
   "outputs": [],
   "source": [
    "%%timeit\n",
    "host_inc_one(x_host)"
   ]
  },
  {
   "cell_type": "code",
   "execution_count": null,
   "metadata": {},
   "outputs": [],
   "source": [
    "@cuda.jit()\n",
    "def device_inc_one(arr):\n",
    "    pos = cuda.grid(1)\n",
    "    if pos < arr.size:\n",
    "        arr[pos] += 1\n",
    "\n",
    "\n",
    "x_device = cuda.to_device(x_host)\n",
    "print(x_device.size)\n",
    "threadsperblock = 256\n",
    "blockspergrid = (x_device.size + (threadsperblock - 1)) // threadsperblock"
   ]
  },
  {
   "cell_type": "code",
   "execution_count": null,
   "metadata": {},
   "outputs": [],
   "source": []
  },
  {
   "cell_type": "code",
   "execution_count": null,
   "metadata": {},
   "outputs": [],
   "source": [
    "%%timeit\n",
    "device_inc_one[blockspergrid,threadsperblock](x_device)"
   ]
  },
  {
   "cell_type": "code",
   "execution_count": null,
   "metadata": {},
   "outputs": [],
   "source": [
    "x_device.copy_to_host()"
   ]
  },
  {
   "cell_type": "code",
   "execution_count": 9,
   "metadata": {},
   "outputs": [],
   "source": [
    "x_device = cuda.to_device(np.ones(shape=(256,256)))"
   ]
  },
  {
   "cell_type": "code",
   "execution_count": 10,
   "metadata": {},
   "outputs": [],
   "source": [
    "@cuda.jit\n",
    "def device_inc_one_2d(arr):\n",
    "    x,y = cuda.grid(2)\n",
    "    if(x<arr.shape[0] and y<arr.shape[1]):\n",
    "        arr[x,y] += 1"
   ]
  },
  {
   "cell_type": "code",
   "execution_count": 11,
   "metadata": {},
   "outputs": [],
   "source": [
    "threadsperblock = (8,8)\n",
    "blockspergrid_x = math.ceil(x_device.shape[0]/threadsperblock[0])\n",
    "blockspergrid_y = math.ceil(x_device.shape[1]/threadsperblock[1])\n",
    "blockspergrid = (blockspergrid_x,blockspergrid_y)\n",
    "\n"
   ]
  },
  {
   "cell_type": "code",
   "execution_count": null,
   "metadata": {},
   "outputs": [],
   "source": [
    "%%timeit\n",
    "device_inc_one_2d[blockspergrid,threadsperblock](x_device)"
   ]
  },
  {
   "cell_type": "code",
   "execution_count": null,
   "metadata": {},
   "outputs": [],
   "source": [
    "b = [[1,2,3],[4,5,6],[7,8,9]]\n",
    "\n",
    "for obj in b[0]:\n",
    "    obj+=1\n",
    "    print(obj)\n",
    "\n",
    "print(b)"
   ]
  },
  {
   "cell_type": "code",
   "execution_count": null,
   "metadata": {},
   "outputs": [],
   "source": [
    "from numba import cuda\n",
    "import os\n",
    "# 設置 CUDA 可見設備\n",
    "os.environ[\"CUDA_VISIBLE_DEVICES\"] = \"1\"\n",
    "\n",
    "# 列出所有可用的 GPU\n",
    "print(\"Available GPUs:\", cuda.gpus)\n",
    "\n",
    "# 嘗試選擇 GPU 1\n",
    "try:\n",
    "    cuda.select_device(1)\n",
    "    print(\"Selected GPU 1\")\n",
    "except cuda.cudadrv.error.CudaSupportError as e:\n",
    "    print(\"Failed to select GPU 1:\", e)\n",
    "\n",
    "# 確認當前選擇的 GPU\n",
    "print(cuda.get_current_device())"
   ]
  },
  {
   "cell_type": "code",
   "execution_count": null,
   "metadata": {},
   "outputs": [],
   "source": [
    "config_arr = [30, 0.3, 0.1, 1]\n",
    "x = 1\n",
    "r = 5\n",
    "(-x/(r**2)) * config_arr[0]*config_arr[3]"
   ]
  },
  {
   "cell_type": "code",
   "execution_count": 1,
   "metadata": {},
   "outputs": [],
   "source": [
    "import numpy as np\n",
    "from numba import cuda\n",
    "import math\n",
    "import concurrent.futures\n",
    "\n",
    "@cuda.jit\n",
    "def update_cuda(board):\n",
    "    x,y = cuda.grid(2)\n",
    "    r = ((0-x)**2 + (0-y)**2)\n",
    "    if(r < 25):\n",
    "        board[x][y][0] += 1\n",
    "        board[x][y][1] += 1\n"
   ]
  },
  {
   "cell_type": "code",
   "execution_count": 15,
   "metadata": {},
   "outputs": [
    {
     "name": "stdout",
     "output_type": "stream",
     "text": [
      "[[[     0.       0.       0.  ...      0.       0.       0. ]\n",
      "  [     0.       0.     500.  ...      0.  -50000.     500. ]\n",
      "  [     0.       0.     500.  ...      0.   -6250.     500. ]\n",
      "  ...\n",
      "  [     0.       0.       0.  ...      0.       0.       0. ]\n",
      "  [     0.       0.       0.  ...      0.       0.       0. ]\n",
      "  [     0.       0.       0.  ...      0.       0.       0. ]]\n",
      "\n",
      " [[     0.       0.     500.  ... -50000.       0.     500. ]\n",
      "  [     0.       0.     500.  ... -12500.  -12500.     500. ]\n",
      "  [     0.       0.     500.  ...  -2000.   -4000.     500. ]\n",
      "  ...\n",
      "  [     0.       0.       0.  ...      0.       0.       0. ]\n",
      "  [     0.       0.       0.  ...      0.       0.       0. ]\n",
      "  [     0.       0.       0.  ...      0.       0.       0. ]]\n",
      "\n",
      " [[     0.       0.     500.  ...  -6250.       0.     500. ]\n",
      "  [     0.       0.     500.  ...  -4000.   -2000.     500. ]\n",
      "  [     0.       0.     500.  ...  -1562.5  -1562.5    500. ]\n",
      "  ...\n",
      "  [     0.       0.       0.  ...      0.       0.       0. ]\n",
      "  [     0.       0.       0.  ...      0.       0.       0. ]\n",
      "  [     0.       0.       0.  ...      0.       0.       0. ]]\n",
      "\n",
      " ...\n",
      "\n",
      " [[     0.       0.       0.  ...      0.       0.       0. ]\n",
      "  [     0.       0.       0.  ...      0.       0.       0. ]\n",
      "  [     0.       0.       0.  ...      0.       0.       0. ]\n",
      "  ...\n",
      "  [     0.       0.       0.  ...      0.       0.       0. ]\n",
      "  [     0.       0.       0.  ...      0.       0.       0. ]\n",
      "  [     0.       0.       0.  ...      0.       0.       0. ]]\n",
      "\n",
      " [[     0.       0.       0.  ...      0.       0.       0. ]\n",
      "  [     0.       0.       0.  ...      0.       0.       0. ]\n",
      "  [     0.       0.       0.  ...      0.       0.       0. ]\n",
      "  ...\n",
      "  [     0.       0.       0.  ...      0.       0.       0. ]\n",
      "  [     0.       0.       0.  ...      0.       0.       0. ]\n",
      "  [     0.       0.       0.  ...      0.       0.       0. ]]\n",
      "\n",
      " [[     0.       0.       0.  ...      0.       0.       0. ]\n",
      "  [     0.       0.       0.  ...      0.       0.       0. ]\n",
      "  [     0.       0.       0.  ...      0.       0.       0. ]\n",
      "  ...\n",
      "  [     0.       0.       0.  ...      0.       0.       0. ]\n",
      "  [     0.       0.       0.  ...      0.       0.       0. ]\n",
      "  [     0.       0.       0.  ...      0.       0.       0. ]]]\n"
     ]
    }
   ],
   "source": [
    "\n",
    "mother_board = np.zeros(shape=(800,600,7),dtype='float32') # 800x600 x 每單位資料(force x, force y, velocity x, velocity y)\n",
    "device_board = cuda.to_device(mother_board)\n",
    "threadsperblock = (32,32)\n",
    "blockspergrid_x = math.ceil(device_board.shape[0]/threadsperblock[0])\n",
    "blockspergrid_y = math.ceil(device_board.shape[1]/threadsperblock[1])\n",
    "blockspergrid = (blockspergrid_x,blockspergrid_y)\n",
    "\n",
    "x =  [i for i in range(500)]\n",
    "for _ in range(500):\n",
    "    update_cuda[blockspergrid,threadsperblock](device_board)\n",
    "mother_board = device_board.copy_to_host()\n",
    "print(mother_board)"
   ]
  },
  {
   "cell_type": "code",
   "execution_count": 22,
   "metadata": {},
   "outputs": [
    {
     "name": "stdout",
     "output_type": "stream",
     "text": [
      "26.6 ms ± 895 μs per loop (mean ± std. dev. of 7 runs, 10 loops each)\n"
     ]
    }
   ],
   "source": [
    "\n",
    "mother_board = np.zeros(shape=(800,600,7),dtype='float32') # 800x600 x 每單位資料(force x, force y, velocity x, velocity y)\n",
    "device_board = cuda.to_device(mother_board)\n",
    "threadsperblock = (32,32)\n",
    "blockspergrid_x = math.ceil(device_board.shape[0]/threadsperblock[0])\n",
    "blockspergrid_y = math.ceil(device_board.shape[1]/threadsperblock[1])\n",
    "blockspergrid = (blockspergrid_x,blockspergrid_y)\n",
    "with concurrent.futures.ThreadPoolExecutor() as executor:\n",
    "    executor.map(update_cuda[blockspergrid,threadsperblock](device_board), [i for i in range(500)]) \n",
    "for _ in range(500):\n",
    "    update_cuda[blockspergrid,threadsperblock](device_board)\n",
    "mother_board = device_board.copy_to_host()\n"
   ]
  },
  {
   "cell_type": "code",
   "execution_count": 12,
   "metadata": {},
   "outputs": [
    {
     "name": "stdout",
     "output_type": "stream",
     "text": [
      "True\n"
     ]
    }
   ],
   "source": []
  },
  {
   "cell_type": "code",
   "execution_count": null,
   "metadata": {},
   "outputs": [],
   "source": []
  }
 ],
 "metadata": {
  "kernelspec": {
   "display_name": "AI_intro",
   "language": "python",
   "name": "python3"
  },
  "language_info": {
   "codemirror_mode": {
    "name": "ipython",
    "version": 3
   },
   "file_extension": ".py",
   "mimetype": "text/x-python",
   "name": "python",
   "nbconvert_exporter": "python",
   "pygments_lexer": "ipython3",
   "version": "3.12.7"
  }
 },
 "nbformat": 4,
 "nbformat_minor": 2
}
